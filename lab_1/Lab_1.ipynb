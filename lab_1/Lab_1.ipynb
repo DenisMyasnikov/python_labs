{
 "cells": [
  {
   "cell_type": "markdown",
   "metadata": {},
   "source": [
    "**№2**"
   ]
  },
  {
   "cell_type": "code",
   "execution_count": 81,
   "metadata": {},
   "outputs": [
    {
     "name": "stdout",
     "output_type": "stream",
     "text": [
      "0.2222222222222222\n"
     ]
    }
   ],
   "source": [
    "set_1 = {2,3,9,6}\n",
    "set_2 = {13,6,1,89,5,21,3}\n",
    "inter = 0\n",
    "assoc = len(set_1)+len(set_2)\n",
    "for i in set_1:\n",
    "    for j in set_2:\n",
    "        if i == j: \n",
    "            inter +=1\n",
    "            assoc -=1\n",
    "jacc = inter/assoc\n",
    "print(jacc)\n",
    "        "
   ]
  },
  {
   "cell_type": "markdown",
   "metadata": {},
   "source": [
    "**№4**"
   ]
  },
  {
   "cell_type": "code",
   "execution_count": 80,
   "metadata": {},
   "outputs": [],
   "source": [
    "import json\n",
    "import csv\n",
    "with open(\"sales.json\",\"r\") as jSales:\n",
    "    data = json.load(jSales)\n",
    "\n",
    "with open (\"sales.scv\",\"w\") as f:  \n",
    "    writer = csv.writer(f)\n",
    "    for i in data:\n",
    "        sbc = i[\"sales_by_country\"]\n",
    "        for sbc_v, sbc_k in zip(sbc.values(), sbc.keys()):\n",
    "            for mark in sbc_v.items():\n",
    "                row = [i[\"item\"],sbc_k,mark[0],mark[1]]\n",
    "                writer.writerow(row)\n",
    "\n",
    "                \n",
    "        \n",
    "        \n",
    "        \n",
    "    \n",
    "    \n"
   ]
  },
  {
   "cell_type": "markdown",
   "metadata": {},
   "source": [
    "**№1 (a)**"
   ]
  },
  {
   "cell_type": "code",
   "execution_count": 4,
   "metadata": {},
   "outputs": [
    {
     "name": "stdout",
     "output_type": "stream",
     "text": [
      "{1: [0, 2], 4: [1], 22: [3, 7], 14: [4], 53: [5], 242: [6]}\n"
     ]
    }
   ],
   "source": [
    "arr = [1,4,1,22,14,53,242,22]\n",
    "res_dict = {element: list(filter(lambda i: arr[i] == element, range (len(arr))))for element in arr}\n",
    "print (res_dict)"
   ]
  },
  {
   "cell_type": "code",
   "execution_count": null,
   "metadata": {},
   "outputs": [],
   "source": []
  }
 ],
 "metadata": {
  "kernelspec": {
   "display_name": "Python 3",
   "language": "python",
   "name": "python3"
  },
  "language_info": {
   "codemirror_mode": {
    "name": "ipython",
    "version": 3
   },
   "file_extension": ".py",
   "mimetype": "text/x-python",
   "name": "python",
   "nbconvert_exporter": "python",
   "pygments_lexer": "ipython3",
   "version": "3.8.2"
  }
 },
 "nbformat": 4,
 "nbformat_minor": 4
}
